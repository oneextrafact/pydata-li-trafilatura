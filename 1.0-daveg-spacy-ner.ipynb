{
 "cells": [
  {
   "cell_type": "code",
   "execution_count": 5,
   "metadata": {},
   "outputs": [],
   "source": [
    "import spacy\n",
    "nlp = spacy.load(\"en_core_web_lg\")"
   ]
  },
  {
   "cell_type": "code",
   "execution_count": 20,
   "metadata": {},
   "outputs": [],
   "source": [
    "import json \n",
    "with open(\"./jsonfiles/1/0URkeQrQ.json\", \"r\") as infile:\n",
    "    data = json.load(infile)"
   ]
  },
  {
   "cell_type": "code",
   "execution_count": 21,
   "metadata": {},
   "outputs": [],
   "source": [
    "entities = nlp(data[\"raw_text\"]).ents"
   ]
  },
  {
   "cell_type": "code",
   "execution_count": 23,
   "metadata": {},
   "outputs": [
    {
     "data": {
      "text/plain": [
       "'Kevin Spacey denies 7 more sex offense charges in UK Actor Kevin Spacey has pleaded innocent to seven further sex offenses in Britain, which bring the number of charges the Hollywood star faces in the United Kingdom to 12. Spacey, a double Academy Award winner, has already pleaded not guilty to charges that he sexually assaulted three men between 2004 and 2015 when he was the artistic director at the Old Vic theater in London. He appeared via video-link in a London courtroom on Friday. He now faces a dozen charges relating to four men between 2001 and 2013. His trial is due to start on June 6 and last for three to four weeks. It is likely to be at the Old Bailey, the venue for Britain’s highest-profile criminal trials. Spacey, who has addresses in London and the United States, was granted bail and allowed to return to the United States after a preliminary hearing in June.'"
      ]
     },
     "execution_count": 23,
     "metadata": {},
     "output_type": "execute_result"
    }
   ],
   "source": [
    "data[\"raw_text\"]"
   ]
  },
  {
   "cell_type": "code",
   "execution_count": 25,
   "metadata": {},
   "outputs": [],
   "source": [
    "for e in entities:\n",
    "    if e.label_ == 'LOC':\n",
    "        print(e, e.label_)"
   ]
  },
  {
   "cell_type": "code",
   "execution_count": 24,
   "metadata": {},
   "outputs": [
    {
     "name": "stdout",
     "output_type": "stream",
     "text": [
      "Kevin Spacey PERSON\n",
      "Kevin Spacey PERSON\n"
     ]
    }
   ],
   "source": [
    "for e in entities:\n",
    "    if e.label_ == 'PERSON':\n",
    "        print(e, e.label_)"
   ]
  },
  {
   "cell_type": "code",
   "execution_count": 26,
   "metadata": {},
   "outputs": [
    {
     "name": "stdout",
     "output_type": "stream",
     "text": [
      "Kevin Spacey PERSON\n",
      "7 CARDINAL\n",
      "UK GPE\n",
      "Kevin Spacey PERSON\n",
      "seven CARDINAL\n",
      "Britain GPE\n",
      "Hollywood GPE\n",
      "the United Kingdom GPE\n",
      "12 CARDINAL\n",
      "Spacey ORG\n",
      "Academy Award ORG\n",
      "three CARDINAL\n",
      "between 2004 and 2015 DATE\n",
      "London GPE\n",
      "London GPE\n",
      "Friday DATE\n",
      "dozen CARDINAL\n",
      "four CARDINAL\n",
      "between 2001 and 2013 DATE\n",
      "June 6 DATE\n",
      "three to four weeks DATE\n",
      "the Old Bailey FAC\n",
      "Britain GPE\n",
      "Spacey ORG\n",
      "London GPE\n",
      "the United States GPE\n",
      "the United States GPE\n",
      "June DATE\n"
     ]
    }
   ],
   "source": [
    "for e in entities:\n",
    "    print(e, e.label_)"
   ]
  },
  {
   "cell_type": "code",
   "execution_count": null,
   "metadata": {},
   "outputs": [],
   "source": []
  }
 ],
 "metadata": {
  "kernelspec": {
   "display_name": ".venv",
   "language": "python",
   "name": "python3"
  },
  "language_info": {
   "codemirror_mode": {
    "name": "ipython",
    "version": 3
   },
   "file_extension": ".py",
   "mimetype": "text/x-python",
   "name": "python",
   "nbconvert_exporter": "python",
   "pygments_lexer": "ipython3",
   "version": "3.10.9"
  },
  "orig_nbformat": 4,
  "vscode": {
   "interpreter": {
    "hash": "e9d19b42d8bbcbe87d24c6c50373cd50df9a4c18bda2cd5ca6be0ceea54b01b0"
   }
  }
 },
 "nbformat": 4,
 "nbformat_minor": 2
}
